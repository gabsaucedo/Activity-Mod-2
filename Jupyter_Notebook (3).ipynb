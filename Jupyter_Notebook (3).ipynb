{
 "cells": [
  {
   "cell_type": "code",
   "execution_count": null,
   "metadata": {},
   "outputs": [],
   "source": []
  },
  {
   "cell_type": "markdown",
   "metadata": {},
   "source": [
    "#### Add your code below following the instructions given in the course\n"
   ]
  },
  {
   "cell_type": "code",
   "execution_count": 9,
   "metadata": {},
   "outputs": [],
   "source": [
    "# \"My Jupyter Notebook on IBM Watson Studio\""
   ]
  },
  {
   "cell_type": "code",
   "execution_count": 13,
   "metadata": {},
   "outputs": [],
   "source": [
    "##**Gabriela María Saucedo Meza**\n",
    "##**I´m Systems Ingeniere, Ocupation Academic Cordinator**"
   ]
  },
  {
   "cell_type": "code",
   "execution_count": 22,
   "metadata": {},
   "outputs": [],
   "source": [
    "##*I am interested in data science because it is possible to recognize new scenarios from data management. Additionally, it is a new opportunity for professional development*"
   ]
  },
  {
   "cell_type": "code",
   "execution_count": 16,
   "metadata": {},
   "outputs": [],
   "source": [
    "### \"In the following statement two values are multiplied\""
   ]
  },
  {
   "cell_type": "code",
   "execution_count": 18,
   "metadata": {},
   "outputs": [
    {
     "data": {
      "text/plain": [
       "12"
      ]
     },
     "execution_count": 18,
     "metadata": {},
     "output_type": "execute_result"
    }
   ],
   "source": [
    "3*4"
   ]
  },
  {
   "cell_type": "code",
   "execution_count": null,
   "metadata": {},
   "outputs": [],
   "source": [
    "### Bulleted list\n",
    "    * Compasión  \n",
    "    * Honestidad  \n",
    "    * Respeto  \n",
    "    * Humildad    \n",
    "    \n",
    "### Numbered list\n",
    "1 Primer valor  \n",
    "2 Segundo valor  \n",
    "3 Tercer valor    \n",
    "\n",
    "### Hyperlinks\n",
    "[Through this link you can access the Universal Declaration of Human Rights page] (https://www.un.org/es/about-us/universal-declaration-of-human-rights)  \n",
    "\n",
    "### Images\n",
    "*Graphic description between equality, equity and justice*  \n",
    "<img src = \"https://ep01.epimg.net/verne/imagenes/2020/06/10/articulo/1591799815_274864_1591801803_media_normal.jpg\"/>  \n",
    "\n",
    "### Tables\n",
    "| Skills| Attitudes|\n",
    "| -----| -----|\n",
    "| Comunication| Resilient|\n",
    "| Analysis | Colaborator"
   ]
  },
  {
   "cell_type": "code",
   "execution_count": null,
   "metadata": {},
   "outputs": [],
   "source": []
  }
 ],
 "metadata": {
  "kernelspec": {
   "display_name": "Python",
   "language": "python",
   "name": "conda-env-python-py"
  },
  "language_info": {
   "codemirror_mode": {
    "name": "ipython",
    "version": 3
   },
   "file_extension": ".py",
   "mimetype": "text/x-python",
   "name": "python",
   "nbconvert_exporter": "python",
   "pygments_lexer": "ipython3",
   "version": "3.7.12"
  }
 },
 "nbformat": 4,
 "nbformat_minor": 4
}
