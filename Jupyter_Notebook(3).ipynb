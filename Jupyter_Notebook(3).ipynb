Print ("Housework Jupyter Notebook Mod. 2")
